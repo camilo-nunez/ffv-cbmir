{
 "cells": [
  {
   "cell_type": "markdown",
   "id": "7c256dd9",
   "metadata": {},
   "source": [
    "# Feature extraction using VAE's latent space `z`"
   ]
  },
  {
   "cell_type": "code",
   "execution_count": 1,
   "id": "cbf30bb4",
   "metadata": {},
   "outputs": [],
   "source": [
    "import glob\n",
    "import os\n",
    "import numpy as np\n",
    "\n",
    "from PIL import Image\n",
    "from omegaconf import OmegaConf"
   ]
  },
  {
   "cell_type": "code",
   "execution_count": 2,
   "id": "832f3662",
   "metadata": {},
   "outputs": [],
   "source": [
    "import torch\n",
    "\n",
    "import albumentations as A\n",
    "from albumentations.pytorch import ToTensorV2\n",
    "\n",
    "device = torch.device(\"cuda\" if torch.cuda.is_available() else \"cpu\")"
   ]
  },
  {
   "cell_type": "code",
   "execution_count": 3,
   "id": "8553795a",
   "metadata": {},
   "outputs": [],
   "source": [
    "from cabifpn.utils.getter import IntermediateLayerGetter\n",
    "from cabifpn.utils.datasets import CocoDetectionV2, LVISDetection\n",
    "\n",
    "from model.neck_vae import NeckVAE\n",
    "from utils import _create_model, _create_config"
   ]
  },
  {
   "cell_type": "markdown",
   "id": "a9e41f97",
   "metadata": {},
   "source": [
    "## Base configuration"
   ]
  },
  {
   "cell_type": "markdown",
   "id": "2cc0e59c",
   "metadata": {},
   "source": [
    "### Create VAE model"
   ]
  },
  {
   "cell_type": "code",
   "execution_count": 4,
   "id": "c759e0a1",
   "metadata": {},
   "outputs": [],
   "source": [
    "PATH_VAE_CHECKPOINT = '/thesis/checkpoint/20240130_0001_VAE_convnext_small_cabifpn_5.pth'"
   ]
  },
  {
   "cell_type": "code",
   "execution_count": 5,
   "id": "2c6a6fc8",
   "metadata": {},
   "outputs": [],
   "source": [
    "checkpoint_vae = torch.load(os.path.join(PATH_VAE_CHECKPOINT))\n",
    "vae_config = OmegaConf.create(checkpoint_vae['vae_config'])"
   ]
  },
  {
   "cell_type": "code",
   "execution_count": 6,
   "id": "be8c44f3",
   "metadata": {},
   "outputs": [
    {
     "name": "stdout",
     "output_type": "stream",
     "text": [
      "[+] Loading extractor model ...\n",
      "[+] Loading checkpoint...\n",
      "[+] Ready !\n",
      "[+] Preparing base configs...\n",
      "[+] Ready !\n",
      "[i+] Configuring backbone and neck models with variables: {'BACKBONE': {'MODEL_NAME': 'convnext_small', 'OUT_INDICES': [0, 1, 2, 3]}, 'NECK': {'MODEL_NAME': 'cabifpn', 'IN_CHANNELS': [96, 192, 384, 768], 'NUM_CHANNELS': 256, 'NUM_LAYERS': 3}}\n",
      "[i+] Ready !\n",
      "[i+] Building the base model with MaskRCNN head ...\n",
      "[++] Numbers of classes: 91\n",
      "[+] Loading checkpoint...\n",
      "[++] All keys matched successfully\n",
      "[+] Ready. last_epoch: 12 - last_loss: 1.0497519969940186\n",
      "[i+] Ready !\n",
      "[+] Building the NECK VAE base model ...\n",
      "[++] Using VAE configs : total VAEs->3 | in_channels->256 | in_shape->[25, 25] | latent_dim->256.\n",
      "[+] Ready !\n"
     ]
    }
   ],
   "source": [
    "# === GLOBAL VARIABLES ===\n",
    "## Create the dict with layer names neck\n",
    "set_neck_indices = vae_config.NECK_INDICES\n",
    "_RETURN_NECK_NODES = dict([(f'backbone.neck.neck.neck_layer_{idx}.proj_p4_2', f'p4_2_l{idx}') for idx in set_neck_indices])\n",
    "\n",
    "# === Create and load extractor model ===\n",
    "print(f'[+] Loading extractor model ...')\n",
    "\n",
    "## Load extractor model\n",
    "base_config, checkpoint = _create_config(os.path.join('/thesis/checkpoint/',checkpoint_vae['fn_checkpoint']))\n",
    "model_extractor = _create_model(base_config, checkpoint).to(device).eval()\n",
    "\n",
    "## freeze the extractor model\n",
    "for param in model_extractor.parameters():\n",
    "    param.requires_grad = False\n",
    "\n",
    "## Define the hooker neck's layers fuction\n",
    "mid_extractor_getter = IntermediateLayerGetter(model_extractor,\n",
    "                                               return_layers=_RETURN_NECK_NODES,\n",
    "                                               keep_output=False)\n",
    "# === Create NECK VAE base model ===\n",
    "print('[+] Building the NECK VAE base model ...')\n",
    "print(f'[++] Using VAE configs : total VAEs->{len(set_neck_indices)} | in_channels->{vae_config.IN_CHANNELS} | in_shape->{vae_config.IN_SHAPE} | latent_dim->{vae_config.LATENT_DIM}.')\n",
    "base_model = NeckVAE(len(set_neck_indices), vae_config.IN_CHANNELS, vae_config.IN_SHAPE, vae_config.LATENT_DIM).to(device)\n",
    "\n",
    "base_model.load_state_dict(checkpoint_vae['model_state_dict'])\n",
    "\n",
    "model_extractor.eval()\n",
    "base_model.eval()\n",
    "\n",
    "print('[+] Ready !')"
   ]
  },
  {
   "cell_type": "code",
   "execution_count": 7,
   "id": "86b0d57c",
   "metadata": {},
   "outputs": [],
   "source": [
    "## Albumentations to use\n",
    "pre_transform = A.Compose([A.Resize(base_config.DATASET.IMAGE_SIZE, base_config.DATASET.IMAGE_SIZE),\n",
    "                             A.Normalize(mean=base_config.DATASET.MEAN,\n",
    "                                         std=base_config.DATASET.STD,\n",
    "                                         max_pixel_value=255.0),\n",
    "                             ToTensorV2()\n",
    "                            ]\n",
    "                           )"
   ]
  },
  {
   "cell_type": "markdown",
   "id": "e4fde22a",
   "metadata": {},
   "source": [
    "### Example: Extracion latent space `z`"
   ]
  },
  {
   "cell_type": "code",
   "execution_count": 8,
   "id": "15f5616b",
   "metadata": {},
   "outputs": [
    {
     "data": {
      "text/plain": [
       "torch.Size([1, 3, 224, 224])"
      ]
     },
     "execution_count": 8,
     "metadata": {},
     "output_type": "execute_result"
    }
   ],
   "source": [
    "input_img = np.random.randint(low=0,high=255,size=(500,500,3), dtype='uint8')\n",
    "input_img = pre_transform(image=input_img)['image'].unsqueeze(0).to(device)\n",
    "\n",
    "input_img.shape"
   ]
  },
  {
   "cell_type": "code",
   "execution_count": null,
   "id": "63733e9d",
   "metadata": {},
   "outputs": [],
   "source": [
    "neck_layers_vector, _ = mid_extractor_getter(input_img)"
   ]
  },
  {
   "cell_type": "code",
   "execution_count": null,
   "id": "7c481233",
   "metadata": {},
   "outputs": [],
   "source": [
    "%%timeit\n",
    "\n",
    "return_layers_vae = {'latent_z':'latent_z'}\n",
    "\n",
    "for i in range(len(base_model.vaes)):\n",
    "    vae_i = base_model.vaes[i]\n",
    "    layer_neck_i = neck_layers_vector[f'p4_2_l{i}']\n",
    "    \n",
    "    vae_extractor_getter = IntermediateLayerGetter(vae_i,\n",
    "                                                   return_layers=return_layers_vae,\n",
    "                                                   keep_output=False)\n",
    "    \n",
    "    latent_z_i, _ = vae_extractor_getter(layer_neck_i)\n",
    "    \n",
    "#     print(f'Node p4_2_l{i} shape:',latent_z_i['latent_z'].squeeze(0).shape)"
   ]
  },
  {
   "cell_type": "code",
   "execution_count": null,
   "id": "d2bb5a59",
   "metadata": {},
   "outputs": [],
   "source": []
  },
  {
   "cell_type": "markdown",
   "id": "c3d9ac57",
   "metadata": {},
   "source": [
    "### Extraction features dataset: `oxford5k`"
   ]
  },
  {
   "cell_type": "code",
   "execution_count": null,
   "id": "b44efe14",
   "metadata": {},
   "outputs": [],
   "source": [
    "# from tqdm.notebook import tqdm"
   ]
  },
  {
   "cell_type": "code",
   "execution_count": 9,
   "id": "11471770",
   "metadata": {},
   "outputs": [],
   "source": [
    "DATASET_IMG = '/thesis/classical/cbir/oxford5k/test/img'"
   ]
  },
  {
   "cell_type": "code",
   "execution_count": 10,
   "id": "8c1e7e0d",
   "metadata": {},
   "outputs": [],
   "source": [
    "img_l = glob.glob(os.path.join(DATASET_IMG, \"*\"))"
   ]
  },
  {
   "cell_type": "code",
   "execution_count": 20,
   "id": "966f5c99",
   "metadata": {},
   "outputs": [],
   "source": [
    "return_layers_vae = {'latent_z':'latent_z'}\n",
    "\n",
    "dict_latent_z = dict()\n",
    "\n",
    "for img_i in img_l:\n",
    "    \n",
    "    fn_i = os.path.splitext(os.path.basename(img_i))[0]\n",
    "\n",
    "    img_raw = Image.open(img_i)\n",
    "    t_img = pre_transform(image=np.asarray(img_raw))['image'].unsqueeze(0).to(device)\n",
    "    \n",
    "    neck_layers_vector, _ = mid_extractor_getter(t_img)\n",
    "\n",
    "    for i in range(len(base_model.vaes)):\n",
    "        vae_i = base_model.vaes[i]\n",
    "        layer_neck_i = neck_layers_vector[f'p4_2_l{i}']\n",
    "\n",
    "        vae_extractor_getter = IntermediateLayerGetter(vae_i,\n",
    "                                                       return_layers=return_layers_vae,\n",
    "                                                       keep_output=False)\n",
    "\n",
    "        latent_z_i, _ = vae_extractor_getter(layer_neck_i)\n",
    "        \n",
    "        if f'p4_2_l{i}' not in dict_latent_z:\n",
    "            dict_latent_z[f'p4_2_l{i}'] = []\n",
    "        \n",
    "        dict_latent_z[f'p4_2_l{i}'].append((fn_i, latent_z_i['latent_z'].squeeze(0)))\n",
    "\n",
    "    break"
   ]
  },
  {
   "cell_type": "code",
   "execution_count": 22,
   "id": "45dd2d8e",
   "metadata": {},
   "outputs": [],
   "source": [
    "# ## stack features\n",
    "# for k,v in dict_latent_z.items():\n",
    "#     dict_latent_z[k] = torch.stack(v)"
   ]
  },
  {
   "cell_type": "code",
   "execution_count": null,
   "id": "4fcda8bd",
   "metadata": {},
   "outputs": [],
   "source": []
  },
  {
   "cell_type": "code",
   "execution_count": null,
   "id": "fd3b1fdc",
   "metadata": {},
   "outputs": [],
   "source": []
  },
  {
   "cell_type": "code",
   "execution_count": null,
   "id": "4033f839",
   "metadata": {},
   "outputs": [],
   "source": []
  },
  {
   "cell_type": "code",
   "execution_count": null,
   "id": "80f6afb2",
   "metadata": {},
   "outputs": [],
   "source": []
  },
  {
   "cell_type": "code",
   "execution_count": null,
   "id": "9626459e",
   "metadata": {},
   "outputs": [],
   "source": []
  },
  {
   "cell_type": "code",
   "execution_count": null,
   "id": "61b1e0f3",
   "metadata": {},
   "outputs": [],
   "source": []
  },
  {
   "cell_type": "code",
   "execution_count": null,
   "id": "e3cf8916",
   "metadata": {},
   "outputs": [],
   "source": []
  },
  {
   "cell_type": "code",
   "execution_count": null,
   "id": "589b63bc",
   "metadata": {},
   "outputs": [],
   "source": []
  },
  {
   "cell_type": "code",
   "execution_count": null,
   "id": "f476e8aa",
   "metadata": {},
   "outputs": [],
   "source": []
  },
  {
   "cell_type": "code",
   "execution_count": null,
   "id": "0d0bb4c1",
   "metadata": {},
   "outputs": [],
   "source": []
  },
  {
   "cell_type": "code",
   "execution_count": null,
   "id": "4d3d6df9",
   "metadata": {},
   "outputs": [],
   "source": []
  },
  {
   "cell_type": "code",
   "execution_count": null,
   "id": "a02636fa",
   "metadata": {},
   "outputs": [],
   "source": []
  },
  {
   "cell_type": "code",
   "execution_count": null,
   "id": "ee2fc301",
   "metadata": {},
   "outputs": [],
   "source": []
  },
  {
   "cell_type": "code",
   "execution_count": null,
   "id": "d1631627",
   "metadata": {},
   "outputs": [],
   "source": []
  },
  {
   "cell_type": "code",
   "execution_count": null,
   "id": "15744b8f",
   "metadata": {},
   "outputs": [],
   "source": []
  },
  {
   "cell_type": "code",
   "execution_count": null,
   "id": "e98450b4",
   "metadata": {},
   "outputs": [],
   "source": [
    "'/thesis/classical/cbir/oxford5k/test/gt'"
   ]
  },
  {
   "cell_type": "code",
   "execution_count": null,
   "id": "b8f437b0",
   "metadata": {},
   "outputs": [],
   "source": [
    "query_files = glob.glob(os.path.join('/thesis/classical/cbir/oxford5k/test/gt', \"*_query.txt\"))"
   ]
  },
  {
   "cell_type": "code",
   "execution_count": null,
   "id": "549f1382",
   "metadata": {},
   "outputs": [],
   "source": [
    "for file in query_files:\n",
    "    gt_imgs = []\n",
    "\n",
    "    with open(file.replace(\"query\", \"good\"), 'r') as gt_fi:\n",
    "        gt_imgs += [x.strip() for x in gt_fi.readlines()]\n",
    "\n",
    "    with open(file.replace(\"query\", \"ok\"), 'r') as gt_fi:\n",
    "        gt_imgs += [x.strip() for x in gt_fi.readlines()]\n",
    "\n",
    "    K = len(gt_imgs)\n",
    "    \n",
    "    with open(file, 'r') as query_fi:\n",
    "        img_info = query_fi.readlines()[0].strip().split(' ')\n",
    "        img_name = img_info[0].replace(\"oxc1_\", \"\") + \".jpg\"\n",
    "        x_min, y_min, x_max, y_max = [int(float(x)) for x in img_info[1:]]\n",
    "        \n",
    "        query_img = Image.open('/thesis/classical/cbir/oxford5k/test/img/' + img_name)\n",
    "        query_img = query_img.crop((x_min, y_min, x_max, y_max))\n",
    "        \n",
    "        ## RETRIVE PROCESS"
   ]
  },
  {
   "cell_type": "code",
   "execution_count": null,
   "id": "19543148",
   "metadata": {},
   "outputs": [],
   "source": []
  },
  {
   "cell_type": "code",
   "execution_count": null,
   "id": "e01f962f",
   "metadata": {},
   "outputs": [],
   "source": [
    "q_t_img = pre_transform(image=np.asarray(query_img))['image'].unsqueeze(0).to(device)"
   ]
  },
  {
   "cell_type": "code",
   "execution_count": null,
   "id": "ce0c9fb4",
   "metadata": {},
   "outputs": [],
   "source": [
    "layers_vector, _ = mid_extractor_getter(q_t_img)"
   ]
  },
  {
   "cell_type": "code",
   "execution_count": null,
   "id": "0181c2c5",
   "metadata": {},
   "outputs": [],
   "source": [
    "return_layers_vae = {'latent_z':'latent_z'}\n",
    "\n",
    "for i in range(len(base_model.vaes)):\n",
    "    vae_i = base_model.vaes[i]\n",
    "    layer_neck_i = layers_vector[f'p4_2_l{i}']\n",
    "    \n",
    "    vae_extractor_getter = IntermediateLayerGetter(vae_i,\n",
    "                                                   return_layers=return_layers_vae,\n",
    "                                                   keep_output=False)\n",
    "    \n",
    "    latent_z_i, _ = vae_extractor_getter(layer_neck_i)\n",
    "    \n",
    "    print(latent_z_i['latent_z'].squeeze(0).shape)"
   ]
  },
  {
   "cell_type": "code",
   "execution_count": null,
   "id": "1ae712fb",
   "metadata": {},
   "outputs": [],
   "source": []
  },
  {
   "cell_type": "code",
   "execution_count": null,
   "id": "5b61fbbb",
   "metadata": {},
   "outputs": [],
   "source": []
  },
  {
   "cell_type": "code",
   "execution_count": null,
   "id": "72c54e99",
   "metadata": {},
   "outputs": [],
   "source": []
  },
  {
   "cell_type": "code",
   "execution_count": null,
   "id": "6e9840d0",
   "metadata": {},
   "outputs": [],
   "source": []
  },
  {
   "cell_type": "code",
   "execution_count": null,
   "id": "eda410db",
   "metadata": {},
   "outputs": [],
   "source": []
  },
  {
   "cell_type": "code",
   "execution_count": null,
   "id": "42c12309",
   "metadata": {},
   "outputs": [],
   "source": []
  },
  {
   "cell_type": "code",
   "execution_count": null,
   "id": "7f6d5933",
   "metadata": {},
   "outputs": [],
   "source": []
  },
  {
   "cell_type": "code",
   "execution_count": null,
   "id": "741a5897",
   "metadata": {},
   "outputs": [],
   "source": []
  }
 ],
 "metadata": {
  "kernelspec": {
   "display_name": "Python 3 (ipykernel)",
   "language": "python",
   "name": "python3"
  },
  "language_info": {
   "codemirror_mode": {
    "name": "ipython",
    "version": 3
   },
   "file_extension": ".py",
   "mimetype": "text/x-python",
   "name": "python",
   "nbconvert_exporter": "python",
   "pygments_lexer": "ipython3",
   "version": "3.10.12"
  }
 },
 "nbformat": 4,
 "nbformat_minor": 5
}
